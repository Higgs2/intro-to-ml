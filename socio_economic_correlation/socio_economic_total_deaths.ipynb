{
 "cells": [
  {
   "cell_type": "code",
   "execution_count": 37,
   "metadata": {
    "collapsed": true
   },
   "outputs": [],
   "source": [
    "import pandas as pd\n",
    "from sklearn.ensemble import RandomForestRegressor\n",
    "from sklearn.model_selection import train_test_split\n",
    "import matplotlib.pyplot as plt"
   ]
  },
  {
   "cell_type": "code",
   "execution_count": 38,
   "outputs": [
    {
     "data": {
      "text/plain": "    iso_code      continent     location        date  total_cases  new_cases  \\\n0        ABW  North America        Aruba  2020-03-13          2.0        2.0   \n1        ABW  North America        Aruba  2020-03-19          NaN        NaN   \n2        ABW  North America        Aruba  2020-03-20          4.0        2.0   \n3        ABW  North America        Aruba  2020-03-21          NaN        NaN   \n4        ABW  North America        Aruba  2020-03-22          NaN        NaN   \n..       ...            ...          ...         ...          ...        ...   \n495      AFG           Asia  Afghanistan  2020-10-12      39799.0       96.0   \n496      AGO         Africa       Angola  2020-03-22          2.0        2.0   \n497      AGO         Africa       Angola  2020-03-23          2.0        0.0   \n498      AGO         Africa       Angola  2020-03-24          2.0        0.0   \n499      AGO         Africa       Angola  2020-03-25          2.0        0.0   \n\n     new_cases_smoothed  total_deaths  new_deaths  new_deaths_smoothed  ...  \\\n0                   NaN           0.0         0.0                  NaN  ...   \n1                 0.286           NaN         NaN                0.000  ...   \n2                 0.286           0.0         0.0                0.000  ...   \n3                 0.286           NaN         NaN                0.000  ...   \n4                 0.286           NaN         NaN                0.000  ...   \n..                  ...           ...         ...                  ...  ...   \n495              65.429        1477.0         4.0                2.143  ...   \n496                 NaN           0.0         0.0                  NaN  ...   \n497                 NaN           0.0         0.0                  NaN  ...   \n498                 NaN           0.0         0.0                  NaN  ...   \n499                 NaN           0.0         0.0                  NaN  ...   \n\n     gdp_per_capita  extreme_poverty  cardiovasc_death_rate  \\\n0         35973.781              NaN                    NaN   \n1         35973.781              NaN                    NaN   \n2         35973.781              NaN                    NaN   \n3         35973.781              NaN                    NaN   \n4         35973.781              NaN                    NaN   \n..              ...              ...                    ...   \n495        1803.987              NaN                597.029   \n496        5819.495              NaN                276.045   \n497        5819.495              NaN                276.045   \n498        5819.495              NaN                276.045   \n499        5819.495              NaN                276.045   \n\n     diabetes_prevalence  female_smokers  male_smokers  \\\n0                  11.62             NaN           NaN   \n1                  11.62             NaN           NaN   \n2                  11.62             NaN           NaN   \n3                  11.62             NaN           NaN   \n4                  11.62             NaN           NaN   \n..                   ...             ...           ...   \n495                 9.59             NaN           NaN   \n496                 3.94             NaN           NaN   \n497                 3.94             NaN           NaN   \n498                 3.94             NaN           NaN   \n499                 3.94             NaN           NaN   \n\n     handwashing_facilities  hospital_beds_per_thousand  life_expectancy  \\\n0                       NaN                         NaN            76.29   \n1                       NaN                         NaN            76.29   \n2                       NaN                         NaN            76.29   \n3                       NaN                         NaN            76.29   \n4                       NaN                         NaN            76.29   \n..                      ...                         ...              ...   \n495                  37.746                         0.5            64.83   \n496                  26.664                         NaN            61.15   \n497                  26.664                         NaN            61.15   \n498                  26.664                         NaN            61.15   \n499                  26.664                         NaN            61.15   \n\n     human_development_index  \n0                        NaN  \n1                        NaN  \n2                        NaN  \n3                        NaN  \n4                        NaN  \n..                       ...  \n495                    0.498  \n496                    0.581  \n497                    0.581  \n498                    0.581  \n499                    0.581  \n\n[500 rows x 41 columns]",
      "text/html": "<div>\n<style scoped>\n    .dataframe tbody tr th:only-of-type {\n        vertical-align: middle;\n    }\n\n    .dataframe tbody tr th {\n        vertical-align: top;\n    }\n\n    .dataframe thead th {\n        text-align: right;\n    }\n</style>\n<table border=\"1\" class=\"dataframe\">\n  <thead>\n    <tr style=\"text-align: right;\">\n      <th></th>\n      <th>iso_code</th>\n      <th>continent</th>\n      <th>location</th>\n      <th>date</th>\n      <th>total_cases</th>\n      <th>new_cases</th>\n      <th>new_cases_smoothed</th>\n      <th>total_deaths</th>\n      <th>new_deaths</th>\n      <th>new_deaths_smoothed</th>\n      <th>...</th>\n      <th>gdp_per_capita</th>\n      <th>extreme_poverty</th>\n      <th>cardiovasc_death_rate</th>\n      <th>diabetes_prevalence</th>\n      <th>female_smokers</th>\n      <th>male_smokers</th>\n      <th>handwashing_facilities</th>\n      <th>hospital_beds_per_thousand</th>\n      <th>life_expectancy</th>\n      <th>human_development_index</th>\n    </tr>\n  </thead>\n  <tbody>\n    <tr>\n      <th>0</th>\n      <td>ABW</td>\n      <td>North America</td>\n      <td>Aruba</td>\n      <td>2020-03-13</td>\n      <td>2.0</td>\n      <td>2.0</td>\n      <td>NaN</td>\n      <td>0.0</td>\n      <td>0.0</td>\n      <td>NaN</td>\n      <td>...</td>\n      <td>35973.781</td>\n      <td>NaN</td>\n      <td>NaN</td>\n      <td>11.62</td>\n      <td>NaN</td>\n      <td>NaN</td>\n      <td>NaN</td>\n      <td>NaN</td>\n      <td>76.29</td>\n      <td>NaN</td>\n    </tr>\n    <tr>\n      <th>1</th>\n      <td>ABW</td>\n      <td>North America</td>\n      <td>Aruba</td>\n      <td>2020-03-19</td>\n      <td>NaN</td>\n      <td>NaN</td>\n      <td>0.286</td>\n      <td>NaN</td>\n      <td>NaN</td>\n      <td>0.000</td>\n      <td>...</td>\n      <td>35973.781</td>\n      <td>NaN</td>\n      <td>NaN</td>\n      <td>11.62</td>\n      <td>NaN</td>\n      <td>NaN</td>\n      <td>NaN</td>\n      <td>NaN</td>\n      <td>76.29</td>\n      <td>NaN</td>\n    </tr>\n    <tr>\n      <th>2</th>\n      <td>ABW</td>\n      <td>North America</td>\n      <td>Aruba</td>\n      <td>2020-03-20</td>\n      <td>4.0</td>\n      <td>2.0</td>\n      <td>0.286</td>\n      <td>0.0</td>\n      <td>0.0</td>\n      <td>0.000</td>\n      <td>...</td>\n      <td>35973.781</td>\n      <td>NaN</td>\n      <td>NaN</td>\n      <td>11.62</td>\n      <td>NaN</td>\n      <td>NaN</td>\n      <td>NaN</td>\n      <td>NaN</td>\n      <td>76.29</td>\n      <td>NaN</td>\n    </tr>\n    <tr>\n      <th>3</th>\n      <td>ABW</td>\n      <td>North America</td>\n      <td>Aruba</td>\n      <td>2020-03-21</td>\n      <td>NaN</td>\n      <td>NaN</td>\n      <td>0.286</td>\n      <td>NaN</td>\n      <td>NaN</td>\n      <td>0.000</td>\n      <td>...</td>\n      <td>35973.781</td>\n      <td>NaN</td>\n      <td>NaN</td>\n      <td>11.62</td>\n      <td>NaN</td>\n      <td>NaN</td>\n      <td>NaN</td>\n      <td>NaN</td>\n      <td>76.29</td>\n      <td>NaN</td>\n    </tr>\n    <tr>\n      <th>4</th>\n      <td>ABW</td>\n      <td>North America</td>\n      <td>Aruba</td>\n      <td>2020-03-22</td>\n      <td>NaN</td>\n      <td>NaN</td>\n      <td>0.286</td>\n      <td>NaN</td>\n      <td>NaN</td>\n      <td>0.000</td>\n      <td>...</td>\n      <td>35973.781</td>\n      <td>NaN</td>\n      <td>NaN</td>\n      <td>11.62</td>\n      <td>NaN</td>\n      <td>NaN</td>\n      <td>NaN</td>\n      <td>NaN</td>\n      <td>76.29</td>\n      <td>NaN</td>\n    </tr>\n    <tr>\n      <th>...</th>\n      <td>...</td>\n      <td>...</td>\n      <td>...</td>\n      <td>...</td>\n      <td>...</td>\n      <td>...</td>\n      <td>...</td>\n      <td>...</td>\n      <td>...</td>\n      <td>...</td>\n      <td>...</td>\n      <td>...</td>\n      <td>...</td>\n      <td>...</td>\n      <td>...</td>\n      <td>...</td>\n      <td>...</td>\n      <td>...</td>\n      <td>...</td>\n      <td>...</td>\n      <td>...</td>\n    </tr>\n    <tr>\n      <th>495</th>\n      <td>AFG</td>\n      <td>Asia</td>\n      <td>Afghanistan</td>\n      <td>2020-10-12</td>\n      <td>39799.0</td>\n      <td>96.0</td>\n      <td>65.429</td>\n      <td>1477.0</td>\n      <td>4.0</td>\n      <td>2.143</td>\n      <td>...</td>\n      <td>1803.987</td>\n      <td>NaN</td>\n      <td>597.029</td>\n      <td>9.59</td>\n      <td>NaN</td>\n      <td>NaN</td>\n      <td>37.746</td>\n      <td>0.5</td>\n      <td>64.83</td>\n      <td>0.498</td>\n    </tr>\n    <tr>\n      <th>496</th>\n      <td>AGO</td>\n      <td>Africa</td>\n      <td>Angola</td>\n      <td>2020-03-22</td>\n      <td>2.0</td>\n      <td>2.0</td>\n      <td>NaN</td>\n      <td>0.0</td>\n      <td>0.0</td>\n      <td>NaN</td>\n      <td>...</td>\n      <td>5819.495</td>\n      <td>NaN</td>\n      <td>276.045</td>\n      <td>3.94</td>\n      <td>NaN</td>\n      <td>NaN</td>\n      <td>26.664</td>\n      <td>NaN</td>\n      <td>61.15</td>\n      <td>0.581</td>\n    </tr>\n    <tr>\n      <th>497</th>\n      <td>AGO</td>\n      <td>Africa</td>\n      <td>Angola</td>\n      <td>2020-03-23</td>\n      <td>2.0</td>\n      <td>0.0</td>\n      <td>NaN</td>\n      <td>0.0</td>\n      <td>0.0</td>\n      <td>NaN</td>\n      <td>...</td>\n      <td>5819.495</td>\n      <td>NaN</td>\n      <td>276.045</td>\n      <td>3.94</td>\n      <td>NaN</td>\n      <td>NaN</td>\n      <td>26.664</td>\n      <td>NaN</td>\n      <td>61.15</td>\n      <td>0.581</td>\n    </tr>\n    <tr>\n      <th>498</th>\n      <td>AGO</td>\n      <td>Africa</td>\n      <td>Angola</td>\n      <td>2020-03-24</td>\n      <td>2.0</td>\n      <td>0.0</td>\n      <td>NaN</td>\n      <td>0.0</td>\n      <td>0.0</td>\n      <td>NaN</td>\n      <td>...</td>\n      <td>5819.495</td>\n      <td>NaN</td>\n      <td>276.045</td>\n      <td>3.94</td>\n      <td>NaN</td>\n      <td>NaN</td>\n      <td>26.664</td>\n      <td>NaN</td>\n      <td>61.15</td>\n      <td>0.581</td>\n    </tr>\n    <tr>\n      <th>499</th>\n      <td>AGO</td>\n      <td>Africa</td>\n      <td>Angola</td>\n      <td>2020-03-25</td>\n      <td>2.0</td>\n      <td>0.0</td>\n      <td>NaN</td>\n      <td>0.0</td>\n      <td>0.0</td>\n      <td>NaN</td>\n      <td>...</td>\n      <td>5819.495</td>\n      <td>NaN</td>\n      <td>276.045</td>\n      <td>3.94</td>\n      <td>NaN</td>\n      <td>NaN</td>\n      <td>26.664</td>\n      <td>NaN</td>\n      <td>61.15</td>\n      <td>0.581</td>\n    </tr>\n  </tbody>\n</table>\n<p>500 rows × 41 columns</p>\n</div>"
     },
     "execution_count": 38,
     "metadata": {},
     "output_type": "execute_result"
    }
   ],
   "source": [
    "# Read csv data into data frame\n",
    "original_dataframe = pd.read_csv(\"../Case_PRB.csv\", low_memory=False)\n",
    "\n",
    "# Sort the complete dataframe on the date column\n",
    "original_dataframe.sort_values('date')\n",
    "\n",
    "# Show the dataframe to illustrate the available data.\n",
    "original_dataframe.head(500)"
   ],
   "metadata": {
    "collapsed": false,
    "pycharm": {
     "name": "#%%\n"
    }
   }
  },
  {
   "cell_type": "code",
   "execution_count": 39,
   "outputs": [
    {
     "data": {
      "text/plain": "Index(['iso_code', 'continent', 'location', 'date', 'total_cases', 'new_cases',\n       'new_cases_smoothed', 'total_deaths', 'new_deaths',\n       'new_deaths_smoothed', 'total_cases_per_million',\n       'new_cases_per_million', 'new_cases_smoothed_per_million',\n       'total_deaths_per_million', 'new_deaths_per_million',\n       'new_deaths_smoothed_per_million', 'new_tests', 'total_tests',\n       'total_tests_per_thousand', 'new_tests_per_thousand',\n       'new_tests_smoothed', 'new_tests_smoothed_per_thousand',\n       'tests_per_case', 'positive_rate', 'tests_units', 'stringency_index',\n       'population', 'population_density', 'median_age', 'aged_65_older',\n       'aged_70_older', 'gdp_per_capita', 'extreme_poverty',\n       'cardiovasc_death_rate', 'diabetes_prevalence', 'female_smokers',\n       'male_smokers', 'handwashing_facilities', 'hospital_beds_per_thousand',\n       'life_expectancy', 'human_development_index'],\n      dtype='object')"
     },
     "execution_count": 39,
     "metadata": {},
     "output_type": "execute_result"
    }
   ],
   "source": [
    "# All the columns that are accessible in the dataframe.\n",
    "original_dataframe.columns"
   ],
   "metadata": {
    "collapsed": false,
    "pycharm": {
     "name": "#%%\n"
    }
   }
  },
  {
   "cell_type": "code",
   "execution_count": 40,
   "outputs": [],
   "source": [
    "# Set all the continuous values in one array.\n",
    "original_dataframe_cont = original_dataframe[['date', 'total_cases', 'new_cases', 'new_cases_smoothed', 'total_deaths', 'new_deaths', 'new_deaths_smoothed', 'total_cases_per_million', 'new_cases_per_million', 'new_cases_smoothed_per_million', 'total_deaths_per_million', 'new_deaths_per_million', 'new_deaths_smoothed_per_million', 'new_tests', 'total_tests', 'total_tests_per_thousand', 'new_tests_per_thousand', 'new_tests_smoothed', 'new_tests_smoothed_per_thousand', 'tests_per_case', 'positive_rate', 'tests_units', 'stringency_index', 'population', 'population_density', 'median_age', 'aged_65_older', 'aged_70_older', 'gdp_per_capita', 'extreme_poverty', 'cardiovasc_death_rate', 'diabetes_prevalence', 'female_smokers', 'male_smokers', 'handwashing_facilities', 'hospital_beds_per_thousand', 'life_expectancy', 'human_development_index']]\n",
    "\n",
    "# Set all the string values in one array.\n",
    "original_dataframe_cat = original_dataframe[['iso_code', 'continent', 'location']]"
   ],
   "metadata": {
    "collapsed": false,
    "pycharm": {
     "name": "#%%\n"
    }
   }
  },
  {
   "cell_type": "code",
   "execution_count": 41,
   "outputs": [
    {
     "data": {
      "text/plain": "   location_Afghanistan  location_Albania  location_Algeria  location_Andorra  \\\n0                     0                 0                 0                 0   \n1                     0                 0                 0                 0   \n2                     0                 0                 0                 0   \n3                     0                 0                 0                 0   \n4                     0                 0                 0                 0   \n\n   location_Angola  location_Anguilla  location_Antigua and Barbuda  \\\n0                0                  0                             0   \n1                0                  0                             0   \n2                0                  0                             0   \n3                0                  0                             0   \n4                0                  0                             0   \n\n   location_Argentina  location_Armenia  location_Aruba  ...  \\\n0                   0                 0               1  ...   \n1                   0                 0               1  ...   \n2                   0                 0               1  ...   \n3                   0                 0               1  ...   \n4                   0                 0               1  ...   \n\n   location_Uruguay  location_Uzbekistan  location_Vatican  \\\n0                 0                    0                 0   \n1                 0                    0                 0   \n2                 0                    0                 0   \n3                 0                    0                 0   \n4                 0                    0                 0   \n\n   location_Venezuela  location_Vietnam  location_Western Sahara  \\\n0                   0                 0                        0   \n1                   0                 0                        0   \n2                   0                 0                        0   \n3                   0                 0                        0   \n4                   0                 0                        0   \n\n   location_World  location_Yemen  location_Zambia  location_Zimbabwe  \n0               0               0                0                  0  \n1               0               0                0                  0  \n2               0               0                0                  0  \n3               0               0                0                  0  \n4               0               0                0                  0  \n\n[5 rows x 212 columns]",
      "text/html": "<div>\n<style scoped>\n    .dataframe tbody tr th:only-of-type {\n        vertical-align: middle;\n    }\n\n    .dataframe tbody tr th {\n        vertical-align: top;\n    }\n\n    .dataframe thead th {\n        text-align: right;\n    }\n</style>\n<table border=\"1\" class=\"dataframe\">\n  <thead>\n    <tr style=\"text-align: right;\">\n      <th></th>\n      <th>location_Afghanistan</th>\n      <th>location_Albania</th>\n      <th>location_Algeria</th>\n      <th>location_Andorra</th>\n      <th>location_Angola</th>\n      <th>location_Anguilla</th>\n      <th>location_Antigua and Barbuda</th>\n      <th>location_Argentina</th>\n      <th>location_Armenia</th>\n      <th>location_Aruba</th>\n      <th>...</th>\n      <th>location_Uruguay</th>\n      <th>location_Uzbekistan</th>\n      <th>location_Vatican</th>\n      <th>location_Venezuela</th>\n      <th>location_Vietnam</th>\n      <th>location_Western Sahara</th>\n      <th>location_World</th>\n      <th>location_Yemen</th>\n      <th>location_Zambia</th>\n      <th>location_Zimbabwe</th>\n    </tr>\n  </thead>\n  <tbody>\n    <tr>\n      <th>0</th>\n      <td>0</td>\n      <td>0</td>\n      <td>0</td>\n      <td>0</td>\n      <td>0</td>\n      <td>0</td>\n      <td>0</td>\n      <td>0</td>\n      <td>0</td>\n      <td>1</td>\n      <td>...</td>\n      <td>0</td>\n      <td>0</td>\n      <td>0</td>\n      <td>0</td>\n      <td>0</td>\n      <td>0</td>\n      <td>0</td>\n      <td>0</td>\n      <td>0</td>\n      <td>0</td>\n    </tr>\n    <tr>\n      <th>1</th>\n      <td>0</td>\n      <td>0</td>\n      <td>0</td>\n      <td>0</td>\n      <td>0</td>\n      <td>0</td>\n      <td>0</td>\n      <td>0</td>\n      <td>0</td>\n      <td>1</td>\n      <td>...</td>\n      <td>0</td>\n      <td>0</td>\n      <td>0</td>\n      <td>0</td>\n      <td>0</td>\n      <td>0</td>\n      <td>0</td>\n      <td>0</td>\n      <td>0</td>\n      <td>0</td>\n    </tr>\n    <tr>\n      <th>2</th>\n      <td>0</td>\n      <td>0</td>\n      <td>0</td>\n      <td>0</td>\n      <td>0</td>\n      <td>0</td>\n      <td>0</td>\n      <td>0</td>\n      <td>0</td>\n      <td>1</td>\n      <td>...</td>\n      <td>0</td>\n      <td>0</td>\n      <td>0</td>\n      <td>0</td>\n      <td>0</td>\n      <td>0</td>\n      <td>0</td>\n      <td>0</td>\n      <td>0</td>\n      <td>0</td>\n    </tr>\n    <tr>\n      <th>3</th>\n      <td>0</td>\n      <td>0</td>\n      <td>0</td>\n      <td>0</td>\n      <td>0</td>\n      <td>0</td>\n      <td>0</td>\n      <td>0</td>\n      <td>0</td>\n      <td>1</td>\n      <td>...</td>\n      <td>0</td>\n      <td>0</td>\n      <td>0</td>\n      <td>0</td>\n      <td>0</td>\n      <td>0</td>\n      <td>0</td>\n      <td>0</td>\n      <td>0</td>\n      <td>0</td>\n    </tr>\n    <tr>\n      <th>4</th>\n      <td>0</td>\n      <td>0</td>\n      <td>0</td>\n      <td>0</td>\n      <td>0</td>\n      <td>0</td>\n      <td>0</td>\n      <td>0</td>\n      <td>0</td>\n      <td>1</td>\n      <td>...</td>\n      <td>0</td>\n      <td>0</td>\n      <td>0</td>\n      <td>0</td>\n      <td>0</td>\n      <td>0</td>\n      <td>0</td>\n      <td>0</td>\n      <td>0</td>\n      <td>0</td>\n    </tr>\n  </tbody>\n</table>\n<p>5 rows × 212 columns</p>\n</div>"
     },
     "execution_count": 41,
     "metadata": {},
     "output_type": "execute_result"
    }
   ],
   "source": [
    "# Categorize the string values with one hot encoding.\n",
    "categorized_dataframe = pd.get_dummies(original_dataframe, columns = original_dataframe_cat.columns)\n",
    "\n",
    "# Show the result of one hot encoding. It spread the values from one column to multiple flag columns.\n",
    "categorized_dataframe.filter(regex='^iso_code_',axis=1).head()\n",
    "categorized_dataframe.filter(regex='^continent_',axis=1).head()\n",
    "categorized_dataframe.filter(regex='^location_',axis=1).head()"
   ],
   "metadata": {
    "collapsed": false,
    "pycharm": {
     "name": "#%%\n"
    }
   }
  },
  {
   "cell_type": "code",
   "execution_count": 42,
   "outputs": [
    {
     "data": {
      "text/plain": "diabetes_prevalence  total_deaths\n3.94                 0.0             252\n9.75                 0.0             213\n10.55                0.0             212\n4.82                 0.0             211\n6.00                 0.0             210\n                                    ... \n6.41                 123.0             1\n                     139.0             1\n                     161.0             1\n                     179.0             1\nNaN                  635.0             1\nLength: 12652, dtype: int64"
     },
     "execution_count": 42,
     "metadata": {},
     "output_type": "execute_result"
    }
   ],
   "source": [
    "# Remove the missing values before we train the model. Because we don't want them in our model.\n",
    "categorized_dataframe.dropna(subset=['extreme_poverty', 'total_deaths'], inplace=True)\n",
    "\n",
    "# Showing that all the missing values are removed.\n",
    "categorized_dataframe[['diabetes_prevalence', 'total_deaths']].value_counts(dropna=False)"
   ],
   "metadata": {
    "collapsed": false,
    "pycharm": {
     "name": "#%%\n"
    }
   }
  },
  {
   "cell_type": "code",
   "execution_count": 43,
   "outputs": [
    {
     "name": "stderr",
     "output_type": "stream",
     "text": [
      "C:\\Users\\desle\\AppData\\Local\\Temp\\ipykernel_34068\\1079510161.py:14: DataConversionWarning: A column-vector y was passed when a 1d array was expected. Please change the shape of y to (n_samples,), for example using ravel().\n",
      "  reg.fit(x_train, y_train)\n"
     ]
    },
    {
     "ename": "InvalidIndexError",
     "evalue": "(slice(None, None, None), None)",
     "output_type": "error",
     "traceback": [
      "\u001B[1;31m---------------------------------------------------------------------------\u001B[0m",
      "\u001B[1;31mTypeError\u001B[0m                                 Traceback (most recent call last)",
      "File \u001B[1;32m~\\AppData\\Local\\Programs\\Python\\Python310\\lib\\site-packages\\pandas\\core\\indexes\\base.py:3621\u001B[0m, in \u001B[0;36mIndex.get_loc\u001B[1;34m(self, key, method, tolerance)\u001B[0m\n\u001B[0;32m   3620\u001B[0m \u001B[38;5;28;01mtry\u001B[39;00m:\n\u001B[1;32m-> 3621\u001B[0m     \u001B[38;5;28;01mreturn\u001B[39;00m \u001B[38;5;28;43mself\u001B[39;49m\u001B[38;5;241;43m.\u001B[39;49m\u001B[43m_engine\u001B[49m\u001B[38;5;241;43m.\u001B[39;49m\u001B[43mget_loc\u001B[49m\u001B[43m(\u001B[49m\u001B[43mcasted_key\u001B[49m\u001B[43m)\u001B[49m\n\u001B[0;32m   3622\u001B[0m \u001B[38;5;28;01mexcept\u001B[39;00m \u001B[38;5;167;01mKeyError\u001B[39;00m \u001B[38;5;28;01mas\u001B[39;00m err:\n",
      "File \u001B[1;32m~\\AppData\\Local\\Programs\\Python\\Python310\\lib\\site-packages\\pandas\\_libs\\index.pyx:136\u001B[0m, in \u001B[0;36mpandas._libs.index.IndexEngine.get_loc\u001B[1;34m()\u001B[0m\n",
      "File \u001B[1;32m~\\AppData\\Local\\Programs\\Python\\Python310\\lib\\site-packages\\pandas\\_libs\\index.pyx:142\u001B[0m, in \u001B[0;36mpandas._libs.index.IndexEngine.get_loc\u001B[1;34m()\u001B[0m\n",
      "\u001B[1;31mTypeError\u001B[0m: '(slice(None, None, None), None)' is an invalid key",
      "\nDuring handling of the above exception, another exception occurred:\n",
      "\u001B[1;31mInvalidIndexError\u001B[0m                         Traceback (most recent call last)",
      "Input \u001B[1;32mIn [43]\u001B[0m, in \u001B[0;36m<module>\u001B[1;34m\u001B[0m\n\u001B[0;32m     19\u001B[0m \u001B[38;5;66;03m# Fill the plot with data to show the diagram.\u001B[39;00m\n\u001B[0;32m     20\u001B[0m plt\u001B[38;5;241m.\u001B[39mscatter(x_train, y_train)\n\u001B[1;32m---> 21\u001B[0m \u001B[43mplt\u001B[49m\u001B[38;5;241;43m.\u001B[39;49m\u001B[43mplot\u001B[49m\u001B[43m(\u001B[49m\u001B[43mx_train\u001B[49m\u001B[43m,\u001B[49m\u001B[43m \u001B[49m\u001B[43mreg\u001B[49m\u001B[38;5;241;43m.\u001B[39;49m\u001B[43mpredict\u001B[49m\u001B[43m(\u001B[49m\u001B[43mx_train\u001B[49m\u001B[43m)\u001B[49m\u001B[43m)\u001B[49m\n\u001B[0;32m     23\u001B[0m plt\u001B[38;5;241m.\u001B[39mshow()\n",
      "File \u001B[1;32m~\\AppData\\Local\\Programs\\Python\\Python310\\lib\\site-packages\\matplotlib\\pyplot.py:2757\u001B[0m, in \u001B[0;36mplot\u001B[1;34m(scalex, scaley, data, *args, **kwargs)\u001B[0m\n\u001B[0;32m   2755\u001B[0m \u001B[38;5;129m@_copy_docstring_and_deprecators\u001B[39m(Axes\u001B[38;5;241m.\u001B[39mplot)\n\u001B[0;32m   2756\u001B[0m \u001B[38;5;28;01mdef\u001B[39;00m \u001B[38;5;21mplot\u001B[39m(\u001B[38;5;241m*\u001B[39margs, scalex\u001B[38;5;241m=\u001B[39m\u001B[38;5;28;01mTrue\u001B[39;00m, scaley\u001B[38;5;241m=\u001B[39m\u001B[38;5;28;01mTrue\u001B[39;00m, data\u001B[38;5;241m=\u001B[39m\u001B[38;5;28;01mNone\u001B[39;00m, \u001B[38;5;241m*\u001B[39m\u001B[38;5;241m*\u001B[39mkwargs):\n\u001B[1;32m-> 2757\u001B[0m     \u001B[38;5;28;01mreturn\u001B[39;00m gca()\u001B[38;5;241m.\u001B[39mplot(\n\u001B[0;32m   2758\u001B[0m         \u001B[38;5;241m*\u001B[39margs, scalex\u001B[38;5;241m=\u001B[39mscalex, scaley\u001B[38;5;241m=\u001B[39mscaley,\n\u001B[0;32m   2759\u001B[0m         \u001B[38;5;241m*\u001B[39m\u001B[38;5;241m*\u001B[39m({\u001B[38;5;124m\"\u001B[39m\u001B[38;5;124mdata\u001B[39m\u001B[38;5;124m\"\u001B[39m: data} \u001B[38;5;28;01mif\u001B[39;00m data \u001B[38;5;129;01mis\u001B[39;00m \u001B[38;5;129;01mnot\u001B[39;00m \u001B[38;5;28;01mNone\u001B[39;00m \u001B[38;5;28;01melse\u001B[39;00m {}), \u001B[38;5;241m*\u001B[39m\u001B[38;5;241m*\u001B[39mkwargs)\n",
      "File \u001B[1;32m~\\AppData\\Local\\Programs\\Python\\Python310\\lib\\site-packages\\matplotlib\\axes\\_axes.py:1632\u001B[0m, in \u001B[0;36mAxes.plot\u001B[1;34m(self, scalex, scaley, data, *args, **kwargs)\u001B[0m\n\u001B[0;32m   1390\u001B[0m \u001B[38;5;124;03m\"\"\"\u001B[39;00m\n\u001B[0;32m   1391\u001B[0m \u001B[38;5;124;03mPlot y versus x as lines and/or markers.\u001B[39;00m\n\u001B[0;32m   1392\u001B[0m \n\u001B[1;32m   (...)\u001B[0m\n\u001B[0;32m   1629\u001B[0m \u001B[38;5;124;03m(``'green'``) or hex strings (``'#008000'``).\u001B[39;00m\n\u001B[0;32m   1630\u001B[0m \u001B[38;5;124;03m\"\"\"\u001B[39;00m\n\u001B[0;32m   1631\u001B[0m kwargs \u001B[38;5;241m=\u001B[39m cbook\u001B[38;5;241m.\u001B[39mnormalize_kwargs(kwargs, mlines\u001B[38;5;241m.\u001B[39mLine2D)\n\u001B[1;32m-> 1632\u001B[0m lines \u001B[38;5;241m=\u001B[39m [\u001B[38;5;241m*\u001B[39m\u001B[38;5;28mself\u001B[39m\u001B[38;5;241m.\u001B[39m_get_lines(\u001B[38;5;241m*\u001B[39margs, data\u001B[38;5;241m=\u001B[39mdata, \u001B[38;5;241m*\u001B[39m\u001B[38;5;241m*\u001B[39mkwargs)]\n\u001B[0;32m   1633\u001B[0m \u001B[38;5;28;01mfor\u001B[39;00m line \u001B[38;5;129;01min\u001B[39;00m lines:\n\u001B[0;32m   1634\u001B[0m     \u001B[38;5;28mself\u001B[39m\u001B[38;5;241m.\u001B[39madd_line(line)\n",
      "File \u001B[1;32m~\\AppData\\Local\\Programs\\Python\\Python310\\lib\\site-packages\\matplotlib\\axes\\_base.py:312\u001B[0m, in \u001B[0;36m_process_plot_var_args.__call__\u001B[1;34m(self, data, *args, **kwargs)\u001B[0m\n\u001B[0;32m    310\u001B[0m     this \u001B[38;5;241m+\u001B[39m\u001B[38;5;241m=\u001B[39m args[\u001B[38;5;241m0\u001B[39m],\n\u001B[0;32m    311\u001B[0m     args \u001B[38;5;241m=\u001B[39m args[\u001B[38;5;241m1\u001B[39m:]\n\u001B[1;32m--> 312\u001B[0m \u001B[38;5;28;01myield from\u001B[39;00m \u001B[38;5;28;43mself\u001B[39;49m\u001B[38;5;241;43m.\u001B[39;49m\u001B[43m_plot_args\u001B[49m\u001B[43m(\u001B[49m\u001B[43mthis\u001B[49m\u001B[43m,\u001B[49m\u001B[43m \u001B[49m\u001B[43mkwargs\u001B[49m\u001B[43m)\u001B[49m\n",
      "File \u001B[1;32m~\\AppData\\Local\\Programs\\Python\\Python310\\lib\\site-packages\\matplotlib\\axes\\_base.py:487\u001B[0m, in \u001B[0;36m_process_plot_var_args._plot_args\u001B[1;34m(self, tup, kwargs, return_kwargs)\u001B[0m\n\u001B[0;32m    484\u001B[0m         kw[prop_name] \u001B[38;5;241m=\u001B[39m val\n\u001B[0;32m    486\u001B[0m \u001B[38;5;28;01mif\u001B[39;00m \u001B[38;5;28mlen\u001B[39m(xy) \u001B[38;5;241m==\u001B[39m \u001B[38;5;241m2\u001B[39m:\n\u001B[1;32m--> 487\u001B[0m     x \u001B[38;5;241m=\u001B[39m \u001B[43m_check_1d\u001B[49m\u001B[43m(\u001B[49m\u001B[43mxy\u001B[49m\u001B[43m[\u001B[49m\u001B[38;5;241;43m0\u001B[39;49m\u001B[43m]\u001B[49m\u001B[43m)\u001B[49m\n\u001B[0;32m    488\u001B[0m     y \u001B[38;5;241m=\u001B[39m _check_1d(xy[\u001B[38;5;241m1\u001B[39m])\n\u001B[0;32m    489\u001B[0m \u001B[38;5;28;01melse\u001B[39;00m:\n",
      "File \u001B[1;32m~\\AppData\\Local\\Programs\\Python\\Python310\\lib\\site-packages\\matplotlib\\cbook\\__init__.py:1327\u001B[0m, in \u001B[0;36m_check_1d\u001B[1;34m(x)\u001B[0m\n\u001B[0;32m   1321\u001B[0m \u001B[38;5;28;01mwith\u001B[39;00m warnings\u001B[38;5;241m.\u001B[39mcatch_warnings(record\u001B[38;5;241m=\u001B[39m\u001B[38;5;28;01mTrue\u001B[39;00m) \u001B[38;5;28;01mas\u001B[39;00m w:\n\u001B[0;32m   1322\u001B[0m     warnings\u001B[38;5;241m.\u001B[39mfilterwarnings(\n\u001B[0;32m   1323\u001B[0m         \u001B[38;5;124m\"\u001B[39m\u001B[38;5;124malways\u001B[39m\u001B[38;5;124m\"\u001B[39m,\n\u001B[0;32m   1324\u001B[0m         category\u001B[38;5;241m=\u001B[39m\u001B[38;5;167;01mWarning\u001B[39;00m,\n\u001B[0;32m   1325\u001B[0m         message\u001B[38;5;241m=\u001B[39m\u001B[38;5;124m'\u001B[39m\u001B[38;5;124mSupport for multi-dimensional indexing\u001B[39m\u001B[38;5;124m'\u001B[39m)\n\u001B[1;32m-> 1327\u001B[0m     ndim \u001B[38;5;241m=\u001B[39m \u001B[43mx\u001B[49m\u001B[43m[\u001B[49m\u001B[43m:\u001B[49m\u001B[43m,\u001B[49m\u001B[43m \u001B[49m\u001B[38;5;28;43;01mNone\u001B[39;49;00m\u001B[43m]\u001B[49m\u001B[38;5;241m.\u001B[39mndim\n\u001B[0;32m   1328\u001B[0m     \u001B[38;5;66;03m# we have definitely hit a pandas index or series object\u001B[39;00m\n\u001B[0;32m   1329\u001B[0m     \u001B[38;5;66;03m# cast to a numpy array.\u001B[39;00m\n\u001B[0;32m   1330\u001B[0m     \u001B[38;5;28;01mif\u001B[39;00m \u001B[38;5;28mlen\u001B[39m(w) \u001B[38;5;241m>\u001B[39m \u001B[38;5;241m0\u001B[39m:\n",
      "File \u001B[1;32m~\\AppData\\Local\\Programs\\Python\\Python310\\lib\\site-packages\\pandas\\core\\frame.py:3506\u001B[0m, in \u001B[0;36mDataFrame.__getitem__\u001B[1;34m(self, key)\u001B[0m\n\u001B[0;32m   3504\u001B[0m \u001B[38;5;28;01mif\u001B[39;00m \u001B[38;5;28mself\u001B[39m\u001B[38;5;241m.\u001B[39mcolumns\u001B[38;5;241m.\u001B[39mnlevels \u001B[38;5;241m>\u001B[39m \u001B[38;5;241m1\u001B[39m:\n\u001B[0;32m   3505\u001B[0m     \u001B[38;5;28;01mreturn\u001B[39;00m \u001B[38;5;28mself\u001B[39m\u001B[38;5;241m.\u001B[39m_getitem_multilevel(key)\n\u001B[1;32m-> 3506\u001B[0m indexer \u001B[38;5;241m=\u001B[39m \u001B[38;5;28;43mself\u001B[39;49m\u001B[38;5;241;43m.\u001B[39;49m\u001B[43mcolumns\u001B[49m\u001B[38;5;241;43m.\u001B[39;49m\u001B[43mget_loc\u001B[49m\u001B[43m(\u001B[49m\u001B[43mkey\u001B[49m\u001B[43m)\u001B[49m\n\u001B[0;32m   3507\u001B[0m \u001B[38;5;28;01mif\u001B[39;00m is_integer(indexer):\n\u001B[0;32m   3508\u001B[0m     indexer \u001B[38;5;241m=\u001B[39m [indexer]\n",
      "File \u001B[1;32m~\\AppData\\Local\\Programs\\Python\\Python310\\lib\\site-packages\\pandas\\core\\indexes\\base.py:3628\u001B[0m, in \u001B[0;36mIndex.get_loc\u001B[1;34m(self, key, method, tolerance)\u001B[0m\n\u001B[0;32m   3623\u001B[0m         \u001B[38;5;28;01mraise\u001B[39;00m \u001B[38;5;167;01mKeyError\u001B[39;00m(key) \u001B[38;5;28;01mfrom\u001B[39;00m \u001B[38;5;21;01merr\u001B[39;00m\n\u001B[0;32m   3624\u001B[0m     \u001B[38;5;28;01mexcept\u001B[39;00m \u001B[38;5;167;01mTypeError\u001B[39;00m:\n\u001B[0;32m   3625\u001B[0m         \u001B[38;5;66;03m# If we have a listlike key, _check_indexing_error will raise\u001B[39;00m\n\u001B[0;32m   3626\u001B[0m         \u001B[38;5;66;03m#  InvalidIndexError. Otherwise we fall through and re-raise\u001B[39;00m\n\u001B[0;32m   3627\u001B[0m         \u001B[38;5;66;03m#  the TypeError.\u001B[39;00m\n\u001B[1;32m-> 3628\u001B[0m         \u001B[38;5;28;43mself\u001B[39;49m\u001B[38;5;241;43m.\u001B[39;49m\u001B[43m_check_indexing_error\u001B[49m\u001B[43m(\u001B[49m\u001B[43mkey\u001B[49m\u001B[43m)\u001B[49m\n\u001B[0;32m   3629\u001B[0m         \u001B[38;5;28;01mraise\u001B[39;00m\n\u001B[0;32m   3631\u001B[0m \u001B[38;5;66;03m# GH#42269\u001B[39;00m\n",
      "File \u001B[1;32m~\\AppData\\Local\\Programs\\Python\\Python310\\lib\\site-packages\\pandas\\core\\indexes\\base.py:5637\u001B[0m, in \u001B[0;36mIndex._check_indexing_error\u001B[1;34m(self, key)\u001B[0m\n\u001B[0;32m   5633\u001B[0m \u001B[38;5;28;01mdef\u001B[39;00m \u001B[38;5;21m_check_indexing_error\u001B[39m(\u001B[38;5;28mself\u001B[39m, key):\n\u001B[0;32m   5634\u001B[0m     \u001B[38;5;28;01mif\u001B[39;00m \u001B[38;5;129;01mnot\u001B[39;00m is_scalar(key):\n\u001B[0;32m   5635\u001B[0m         \u001B[38;5;66;03m# if key is not a scalar, directly raise an error (the code below\u001B[39;00m\n\u001B[0;32m   5636\u001B[0m         \u001B[38;5;66;03m# would convert to numpy arrays and raise later any way) - GH29926\u001B[39;00m\n\u001B[1;32m-> 5637\u001B[0m         \u001B[38;5;28;01mraise\u001B[39;00m InvalidIndexError(key)\n",
      "\u001B[1;31mInvalidIndexError\u001B[0m: (slice(None, None, None), None)"
     ]
    },
    {
     "data": {
      "text/plain": "<Figure size 432x288 with 1 Axes>",
      "image/png": "[encoded data removed]"
     },
     "metadata": {
      "needs_background": "light"
     },
     "output_type": "display_data"
    }
   ],
   "source": [
    "# Get the independent data to predict with.\n",
    "X = categorized_dataframe[['extreme_poverty']]\n",
    "\n",
    "# Get the dependent data to predict with.\n",
    "Y = categorized_dataframe[['total_deaths']]\n",
    "\n",
    "# Split the data into test and training data.\n",
    "x_train, x_test, y_train, y_test = train_test_split(X, Y, test_size = 0.25, random_state = 0)\n",
    "\n",
    "# Set the forest regressor object.\n",
    "reg = RandomForestRegressor(n_estimators=10, random_state=0)\n",
    "\n",
    "# Build the tree from the training set.\n",
    "reg.fit(x_train, y_train)\n",
    "\n",
    "# Get the predictions based on the test data.\n",
    "reg.predict(x_train)\n",
    "\n",
    "# Fill the plot with data to show the diagram.\n",
    "plt.scatter(x_train, y_train)\n",
    "plt.plot(x_train, reg.predict(x_train))\n",
    "\n",
    "plt.show()"
   ],
   "metadata": {
    "collapsed": false,
    "pycharm": {
     "name": "#%%\n"
    }
   }
  },
  {
   "cell_type": "code",
   "execution_count": null,
   "outputs": [],
   "source": [],
   "metadata": {
    "collapsed": false,
    "pycharm": {
     "name": "#%%\n"
    }
   }
  }
 ],
 "metadata": {
  "kernelspec": {
   "display_name": "Python 3",
   "language": "python",
   "name": "python3"
  },
  "language_info": {
   "codemirror_mode": {
    "name": "ipython",
    "version": 2
   },
   "file_extension": ".py",
   "mimetype": "text/x-python",
   "name": "python",
   "nbconvert_exporter": "python",
   "pygments_lexer": "ipython2",
   "version": "2.7.6"
  }
 },
 "nbformat": 4,
 "nbformat_minor": 0
}