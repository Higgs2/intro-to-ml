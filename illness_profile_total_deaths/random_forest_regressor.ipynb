{
 "cells": [
  {
   "cell_type": "code",
   "execution_count": 8,
   "metadata": {
    "collapsed": true
   },
   "outputs": [],
   "source": [
    "import pandas as pd\n",
    "from sklearn.ensemble import RandomForestRegressor\n",
    "from sklearn.model_selection import train_test_split\n",
    "from sklearn.metrics import r2_score"
   ]
  },
  {
   "cell_type": "code",
   "execution_count": 9,
   "outputs": [
    {
     "data": {
      "text/plain": "    iso_code      continent     location        date  total_cases  new_cases  \\\n0        ABW  North America        Aruba  2020-03-13          2.0        2.0   \n1        ABW  North America        Aruba  2020-03-19          NaN        NaN   \n2        ABW  North America        Aruba  2020-03-20          4.0        2.0   \n3        ABW  North America        Aruba  2020-03-21          NaN        NaN   \n4        ABW  North America        Aruba  2020-03-22          NaN        NaN   \n..       ...            ...          ...         ...          ...        ...   \n495      AFG           Asia  Afghanistan  2020-10-12      39799.0       96.0   \n496      AGO         Africa       Angola  2020-03-22          2.0        2.0   \n497      AGO         Africa       Angola  2020-03-23          2.0        0.0   \n498      AGO         Africa       Angola  2020-03-24          2.0        0.0   \n499      AGO         Africa       Angola  2020-03-25          2.0        0.0   \n\n     new_cases_smoothed  total_deaths  new_deaths  new_deaths_smoothed  ...  \\\n0                   NaN           0.0         0.0                  NaN  ...   \n1                 0.286           NaN         NaN                0.000  ...   \n2                 0.286           0.0         0.0                0.000  ...   \n3                 0.286           NaN         NaN                0.000  ...   \n4                 0.286           NaN         NaN                0.000  ...   \n..                  ...           ...         ...                  ...  ...   \n495              65.429        1477.0         4.0                2.143  ...   \n496                 NaN           0.0         0.0                  NaN  ...   \n497                 NaN           0.0         0.0                  NaN  ...   \n498                 NaN           0.0         0.0                  NaN  ...   \n499                 NaN           0.0         0.0                  NaN  ...   \n\n     gdp_per_capita  extreme_poverty  cardiovasc_death_rate  \\\n0         35973.781              NaN                    NaN   \n1         35973.781              NaN                    NaN   \n2         35973.781              NaN                    NaN   \n3         35973.781              NaN                    NaN   \n4         35973.781              NaN                    NaN   \n..              ...              ...                    ...   \n495        1803.987              NaN                597.029   \n496        5819.495              NaN                276.045   \n497        5819.495              NaN                276.045   \n498        5819.495              NaN                276.045   \n499        5819.495              NaN                276.045   \n\n     diabetes_prevalence  female_smokers  male_smokers  \\\n0                  11.62             NaN           NaN   \n1                  11.62             NaN           NaN   \n2                  11.62             NaN           NaN   \n3                  11.62             NaN           NaN   \n4                  11.62             NaN           NaN   \n..                   ...             ...           ...   \n495                 9.59             NaN           NaN   \n496                 3.94             NaN           NaN   \n497                 3.94             NaN           NaN   \n498                 3.94             NaN           NaN   \n499                 3.94             NaN           NaN   \n\n     handwashing_facilities  hospital_beds_per_thousand  life_expectancy  \\\n0                       NaN                         NaN            76.29   \n1                       NaN                         NaN            76.29   \n2                       NaN                         NaN            76.29   \n3                       NaN                         NaN            76.29   \n4                       NaN                         NaN            76.29   \n..                      ...                         ...              ...   \n495                  37.746                         0.5            64.83   \n496                  26.664                         NaN            61.15   \n497                  26.664                         NaN            61.15   \n498                  26.664                         NaN            61.15   \n499                  26.664                         NaN            61.15   \n\n     human_development_index  \n0                        NaN  \n1                        NaN  \n2                        NaN  \n3                        NaN  \n4                        NaN  \n..                       ...  \n495                    0.498  \n496                    0.581  \n497                    0.581  \n498                    0.581  \n499                    0.581  \n\n[500 rows x 41 columns]",
      "text/html": "<div>\n<style scoped>\n    .dataframe tbody tr th:only-of-type {\n        vertical-align: middle;\n    }\n\n    .dataframe tbody tr th {\n        vertical-align: top;\n    }\n\n    .dataframe thead th {\n        text-align: right;\n    }\n</style>\n<table border=\"1\" class=\"dataframe\">\n  <thead>\n    <tr style=\"text-align: right;\">\n      <th></th>\n      <th>iso_code</th>\n      <th>continent</th>\n      <th>location</th>\n      <th>date</th>\n      <th>total_cases</th>\n      <th>new_cases</th>\n      <th>new_cases_smoothed</th>\n      <th>total_deaths</th>\n      <th>new_deaths</th>\n      <th>new_deaths_smoothed</th>\n      <th>...</th>\n      <th>gdp_per_capita</th>\n      <th>extreme_poverty</th>\n      <th>cardiovasc_death_rate</th>\n      <th>diabetes_prevalence</th>\n      <th>female_smokers</th>\n      <th>male_smokers</th>\n      <th>handwashing_facilities</th>\n      <th>hospital_beds_per_thousand</th>\n      <th>life_expectancy</th>\n      <th>human_development_index</th>\n    </tr>\n  </thead>\n  <tbody>\n    <tr>\n      <th>0</th>\n      <td>ABW</td>\n      <td>North America</td>\n      <td>Aruba</td>\n      <td>2020-03-13</td>\n      <td>2.0</td>\n      <td>2.0</td>\n      <td>NaN</td>\n      <td>0.0</td>\n      <td>0.0</td>\n      <td>NaN</td>\n      <td>...</td>\n      <td>35973.781</td>\n      <td>NaN</td>\n      <td>NaN</td>\n      <td>11.62</td>\n      <td>NaN</td>\n      <td>NaN</td>\n      <td>NaN</td>\n      <td>NaN</td>\n      <td>76.29</td>\n      <td>NaN</td>\n    </tr>\n    <tr>\n      <th>1</th>\n      <td>ABW</td>\n      <td>North America</td>\n      <td>Aruba</td>\n      <td>2020-03-19</td>\n      <td>NaN</td>\n      <td>NaN</td>\n      <td>0.286</td>\n      <td>NaN</td>\n      <td>NaN</td>\n      <td>0.000</td>\n      <td>...</td>\n      <td>35973.781</td>\n      <td>NaN</td>\n      <td>NaN</td>\n      <td>11.62</td>\n      <td>NaN</td>\n      <td>NaN</td>\n      <td>NaN</td>\n      <td>NaN</td>\n      <td>76.29</td>\n      <td>NaN</td>\n    </tr>\n    <tr>\n      <th>2</th>\n      <td>ABW</td>\n      <td>North America</td>\n      <td>Aruba</td>\n      <td>2020-03-20</td>\n      <td>4.0</td>\n      <td>2.0</td>\n      <td>0.286</td>\n      <td>0.0</td>\n      <td>0.0</td>\n      <td>0.000</td>\n      <td>...</td>\n      <td>35973.781</td>\n      <td>NaN</td>\n      <td>NaN</td>\n      <td>11.62</td>\n      <td>NaN</td>\n      <td>NaN</td>\n      <td>NaN</td>\n      <td>NaN</td>\n      <td>76.29</td>\n      <td>NaN</td>\n    </tr>\n    <tr>\n      <th>3</th>\n      <td>ABW</td>\n      <td>North America</td>\n      <td>Aruba</td>\n      <td>2020-03-21</td>\n      <td>NaN</td>\n      <td>NaN</td>\n      <td>0.286</td>\n      <td>NaN</td>\n      <td>NaN</td>\n      <td>0.000</td>\n      <td>...</td>\n      <td>35973.781</td>\n      <td>NaN</td>\n      <td>NaN</td>\n      <td>11.62</td>\n      <td>NaN</td>\n      <td>NaN</td>\n      <td>NaN</td>\n      <td>NaN</td>\n      <td>76.29</td>\n      <td>NaN</td>\n    </tr>\n    <tr>\n      <th>4</th>\n      <td>ABW</td>\n      <td>North America</td>\n      <td>Aruba</td>\n      <td>2020-03-22</td>\n      <td>NaN</td>\n      <td>NaN</td>\n      <td>0.286</td>\n      <td>NaN</td>\n      <td>NaN</td>\n      <td>0.000</td>\n      <td>...</td>\n      <td>35973.781</td>\n      <td>NaN</td>\n      <td>NaN</td>\n      <td>11.62</td>\n      <td>NaN</td>\n      <td>NaN</td>\n      <td>NaN</td>\n      <td>NaN</td>\n      <td>76.29</td>\n      <td>NaN</td>\n    </tr>\n    <tr>\n      <th>...</th>\n      <td>...</td>\n      <td>...</td>\n      <td>...</td>\n      <td>...</td>\n      <td>...</td>\n      <td>...</td>\n      <td>...</td>\n      <td>...</td>\n      <td>...</td>\n      <td>...</td>\n      <td>...</td>\n      <td>...</td>\n      <td>...</td>\n      <td>...</td>\n      <td>...</td>\n      <td>...</td>\n      <td>...</td>\n      <td>...</td>\n      <td>...</td>\n      <td>...</td>\n      <td>...</td>\n    </tr>\n    <tr>\n      <th>495</th>\n      <td>AFG</td>\n      <td>Asia</td>\n      <td>Afghanistan</td>\n      <td>2020-10-12</td>\n      <td>39799.0</td>\n      <td>96.0</td>\n      <td>65.429</td>\n      <td>1477.0</td>\n      <td>4.0</td>\n      <td>2.143</td>\n      <td>...</td>\n      <td>1803.987</td>\n      <td>NaN</td>\n      <td>597.029</td>\n      <td>9.59</td>\n      <td>NaN</td>\n      <td>NaN</td>\n      <td>37.746</td>\n      <td>0.5</td>\n      <td>64.83</td>\n      <td>0.498</td>\n    </tr>\n    <tr>\n      <th>496</th>\n      <td>AGO</td>\n      <td>Africa</td>\n      <td>Angola</td>\n      <td>2020-03-22</td>\n      <td>2.0</td>\n      <td>2.0</td>\n      <td>NaN</td>\n      <td>0.0</td>\n      <td>0.0</td>\n      <td>NaN</td>\n      <td>...</td>\n      <td>5819.495</td>\n      <td>NaN</td>\n      <td>276.045</td>\n      <td>3.94</td>\n      <td>NaN</td>\n      <td>NaN</td>\n      <td>26.664</td>\n      <td>NaN</td>\n      <td>61.15</td>\n      <td>0.581</td>\n    </tr>\n    <tr>\n      <th>497</th>\n      <td>AGO</td>\n      <td>Africa</td>\n      <td>Angola</td>\n      <td>2020-03-23</td>\n      <td>2.0</td>\n      <td>0.0</td>\n      <td>NaN</td>\n      <td>0.0</td>\n      <td>0.0</td>\n      <td>NaN</td>\n      <td>...</td>\n      <td>5819.495</td>\n      <td>NaN</td>\n      <td>276.045</td>\n      <td>3.94</td>\n      <td>NaN</td>\n      <td>NaN</td>\n      <td>26.664</td>\n      <td>NaN</td>\n      <td>61.15</td>\n      <td>0.581</td>\n    </tr>\n    <tr>\n      <th>498</th>\n      <td>AGO</td>\n      <td>Africa</td>\n      <td>Angola</td>\n      <td>2020-03-24</td>\n      <td>2.0</td>\n      <td>0.0</td>\n      <td>NaN</td>\n      <td>0.0</td>\n      <td>0.0</td>\n      <td>NaN</td>\n      <td>...</td>\n      <td>5819.495</td>\n      <td>NaN</td>\n      <td>276.045</td>\n      <td>3.94</td>\n      <td>NaN</td>\n      <td>NaN</td>\n      <td>26.664</td>\n      <td>NaN</td>\n      <td>61.15</td>\n      <td>0.581</td>\n    </tr>\n    <tr>\n      <th>499</th>\n      <td>AGO</td>\n      <td>Africa</td>\n      <td>Angola</td>\n      <td>2020-03-25</td>\n      <td>2.0</td>\n      <td>0.0</td>\n      <td>NaN</td>\n      <td>0.0</td>\n      <td>0.0</td>\n      <td>NaN</td>\n      <td>...</td>\n      <td>5819.495</td>\n      <td>NaN</td>\n      <td>276.045</td>\n      <td>3.94</td>\n      <td>NaN</td>\n      <td>NaN</td>\n      <td>26.664</td>\n      <td>NaN</td>\n      <td>61.15</td>\n      <td>0.581</td>\n    </tr>\n  </tbody>\n</table>\n<p>500 rows × 41 columns</p>\n</div>"
     },
     "execution_count": 9,
     "metadata": {},
     "output_type": "execute_result"
    }
   ],
   "source": [
    "# Read csv data into object (pandas dataframe) to work with.\n",
    "original_dataframe = pd.read_csv(\"../Case_PRB.csv\", low_memory=False)\n",
    "\n",
    "# Sort the complete dataframe on the date column.\n",
    "original_dataframe.sort_values('date')\n",
    "\n",
    "# Show the dataframe to illustrate the available data.\n",
    "original_dataframe.head(500)"
   ],
   "metadata": {
    "collapsed": false,
    "pycharm": {
     "name": "#%%\n"
    }
   }
  },
  {
   "cell_type": "code",
   "execution_count": 10,
   "outputs": [
    {
     "data": {
      "text/plain": "Index(['iso_code', 'continent', 'location', 'date', 'total_cases', 'new_cases',\n       'new_cases_smoothed', 'total_deaths', 'new_deaths',\n       'new_deaths_smoothed', 'total_cases_per_million',\n       'new_cases_per_million', 'new_cases_smoothed_per_million',\n       'total_deaths_per_million', 'new_deaths_per_million',\n       'new_deaths_smoothed_per_million', 'new_tests', 'total_tests',\n       'total_tests_per_thousand', 'new_tests_per_thousand',\n       'new_tests_smoothed', 'new_tests_smoothed_per_thousand',\n       'tests_per_case', 'positive_rate', 'tests_units', 'stringency_index',\n       'population', 'population_density', 'median_age', 'aged_65_older',\n       'aged_70_older', 'gdp_per_capita', 'extreme_poverty',\n       'cardiovasc_death_rate', 'diabetes_prevalence', 'female_smokers',\n       'male_smokers', 'handwashing_facilities', 'hospital_beds_per_thousand',\n       'life_expectancy', 'human_development_index'],\n      dtype='object')"
     },
     "execution_count": 10,
     "metadata": {},
     "output_type": "execute_result"
    }
   ],
   "source": [
    "# All the columns that are accessible in the dataframe.\n",
    "original_dataframe.columns"
   ],
   "metadata": {
    "collapsed": false,
    "pycharm": {
     "name": "#%%\n"
    }
   }
  },
  {
   "cell_type": "code",
   "execution_count": 11,
   "outputs": [],
   "source": [
    "# Set all the continuous values in one array.\n",
    "original_dataframe_cont = original_dataframe[['date', 'total_cases', 'new_cases', 'new_cases_smoothed', 'total_deaths', 'new_deaths', 'new_deaths_smoothed', 'total_cases_per_million', 'new_cases_per_million', 'new_cases_smoothed_per_million', 'total_deaths_per_million', 'new_deaths_per_million', 'new_deaths_smoothed_per_million', 'new_tests', 'total_tests', 'total_tests_per_thousand', 'new_tests_per_thousand', 'new_tests_smoothed', 'new_tests_smoothed_per_thousand', 'tests_per_case', 'positive_rate', 'tests_units', 'stringency_index', 'population', 'population_density', 'median_age', 'aged_65_older', 'aged_70_older', 'gdp_per_capita', 'extreme_poverty', 'cardiovasc_death_rate', 'diabetes_prevalence', 'female_smokers', 'male_smokers', 'handwashing_facilities', 'hospital_beds_per_thousand', 'life_expectancy', 'human_development_index']]\n",
    "\n",
    "# Set all the string values in one array.\n",
    "original_dataframe_cat = original_dataframe[['iso_code', 'continent', 'location']]"
   ],
   "metadata": {
    "collapsed": false,
    "pycharm": {
     "name": "#%%\n"
    }
   }
  },
  {
   "cell_type": "code",
   "execution_count": 12,
   "outputs": [
    {
     "data": {
      "text/plain": "   location_Afghanistan  location_Albania  location_Algeria  location_Andorra  \\\n0                     0                 0                 0                 0   \n1                     0                 0                 0                 0   \n2                     0                 0                 0                 0   \n3                     0                 0                 0                 0   \n4                     0                 0                 0                 0   \n\n   location_Angola  location_Anguilla  location_Antigua and Barbuda  \\\n0                0                  0                             0   \n1                0                  0                             0   \n2                0                  0                             0   \n3                0                  0                             0   \n4                0                  0                             0   \n\n   location_Argentina  location_Armenia  location_Aruba  ...  \\\n0                   0                 0               1  ...   \n1                   0                 0               1  ...   \n2                   0                 0               1  ...   \n3                   0                 0               1  ...   \n4                   0                 0               1  ...   \n\n   location_Uruguay  location_Uzbekistan  location_Vatican  \\\n0                 0                    0                 0   \n1                 0                    0                 0   \n2                 0                    0                 0   \n3                 0                    0                 0   \n4                 0                    0                 0   \n\n   location_Venezuela  location_Vietnam  location_Western Sahara  \\\n0                   0                 0                        0   \n1                   0                 0                        0   \n2                   0                 0                        0   \n3                   0                 0                        0   \n4                   0                 0                        0   \n\n   location_World  location_Yemen  location_Zambia  location_Zimbabwe  \n0               0               0                0                  0  \n1               0               0                0                  0  \n2               0               0                0                  0  \n3               0               0                0                  0  \n4               0               0                0                  0  \n\n[5 rows x 212 columns]",
      "text/html": "<div>\n<style scoped>\n    .dataframe tbody tr th:only-of-type {\n        vertical-align: middle;\n    }\n\n    .dataframe tbody tr th {\n        vertical-align: top;\n    }\n\n    .dataframe thead th {\n        text-align: right;\n    }\n</style>\n<table border=\"1\" class=\"dataframe\">\n  <thead>\n    <tr style=\"text-align: right;\">\n      <th></th>\n      <th>location_Afghanistan</th>\n      <th>location_Albania</th>\n      <th>location_Algeria</th>\n      <th>location_Andorra</th>\n      <th>location_Angola</th>\n      <th>location_Anguilla</th>\n      <th>location_Antigua and Barbuda</th>\n      <th>location_Argentina</th>\n      <th>location_Armenia</th>\n      <th>location_Aruba</th>\n      <th>...</th>\n      <th>location_Uruguay</th>\n      <th>location_Uzbekistan</th>\n      <th>location_Vatican</th>\n      <th>location_Venezuela</th>\n      <th>location_Vietnam</th>\n      <th>location_Western Sahara</th>\n      <th>location_World</th>\n      <th>location_Yemen</th>\n      <th>location_Zambia</th>\n      <th>location_Zimbabwe</th>\n    </tr>\n  </thead>\n  <tbody>\n    <tr>\n      <th>0</th>\n      <td>0</td>\n      <td>0</td>\n      <td>0</td>\n      <td>0</td>\n      <td>0</td>\n      <td>0</td>\n      <td>0</td>\n      <td>0</td>\n      <td>0</td>\n      <td>1</td>\n      <td>...</td>\n      <td>0</td>\n      <td>0</td>\n      <td>0</td>\n      <td>0</td>\n      <td>0</td>\n      <td>0</td>\n      <td>0</td>\n      <td>0</td>\n      <td>0</td>\n      <td>0</td>\n    </tr>\n    <tr>\n      <th>1</th>\n      <td>0</td>\n      <td>0</td>\n      <td>0</td>\n      <td>0</td>\n      <td>0</td>\n      <td>0</td>\n      <td>0</td>\n      <td>0</td>\n      <td>0</td>\n      <td>1</td>\n      <td>...</td>\n      <td>0</td>\n      <td>0</td>\n      <td>0</td>\n      <td>0</td>\n      <td>0</td>\n      <td>0</td>\n      <td>0</td>\n      <td>0</td>\n      <td>0</td>\n      <td>0</td>\n    </tr>\n    <tr>\n      <th>2</th>\n      <td>0</td>\n      <td>0</td>\n      <td>0</td>\n      <td>0</td>\n      <td>0</td>\n      <td>0</td>\n      <td>0</td>\n      <td>0</td>\n      <td>0</td>\n      <td>1</td>\n      <td>...</td>\n      <td>0</td>\n      <td>0</td>\n      <td>0</td>\n      <td>0</td>\n      <td>0</td>\n      <td>0</td>\n      <td>0</td>\n      <td>0</td>\n      <td>0</td>\n      <td>0</td>\n    </tr>\n    <tr>\n      <th>3</th>\n      <td>0</td>\n      <td>0</td>\n      <td>0</td>\n      <td>0</td>\n      <td>0</td>\n      <td>0</td>\n      <td>0</td>\n      <td>0</td>\n      <td>0</td>\n      <td>1</td>\n      <td>...</td>\n      <td>0</td>\n      <td>0</td>\n      <td>0</td>\n      <td>0</td>\n      <td>0</td>\n      <td>0</td>\n      <td>0</td>\n      <td>0</td>\n      <td>0</td>\n      <td>0</td>\n    </tr>\n    <tr>\n      <th>4</th>\n      <td>0</td>\n      <td>0</td>\n      <td>0</td>\n      <td>0</td>\n      <td>0</td>\n      <td>0</td>\n      <td>0</td>\n      <td>0</td>\n      <td>0</td>\n      <td>1</td>\n      <td>...</td>\n      <td>0</td>\n      <td>0</td>\n      <td>0</td>\n      <td>0</td>\n      <td>0</td>\n      <td>0</td>\n      <td>0</td>\n      <td>0</td>\n      <td>0</td>\n      <td>0</td>\n    </tr>\n  </tbody>\n</table>\n<p>5 rows × 212 columns</p>\n</div>"
     },
     "execution_count": 12,
     "metadata": {},
     "output_type": "execute_result"
    }
   ],
   "source": [
    "# Categorize the string values with one hot encoding.\n",
    "categorized_dataframe = pd.get_dummies(original_dataframe, columns = original_dataframe_cat.columns)\n",
    "\n",
    "# Show the result of one hot encoding. It spread the values from one column to multiple flag columns.\n",
    "categorized_dataframe.filter(regex='^iso_code_',axis=1).head()\n",
    "categorized_dataframe.filter(regex='^continent_',axis=1).head()\n",
    "categorized_dataframe.filter(regex='^location_',axis=1).head()"
   ],
   "metadata": {
    "collapsed": false,
    "pycharm": {
     "name": "#%%\n"
    }
   }
  },
  {
   "cell_type": "code",
   "execution_count": 13,
   "outputs": [
    {
     "data": {
      "text/plain": "diabetes_prevalence  total_deaths\n11.62                0.0             646\n4.00                 0.0             480\n3.94                 0.0             294\n7.11                 0.0             283\n2.42                 0.0             278\n                                    ... \n7.11                 309.0             1\n                     313.0             1\n                     316.0             1\n4.78                 6820.0            1\n7.17                 28499.0           1\nLength: 17095, dtype: int64"
     },
     "execution_count": 13,
     "metadata": {},
     "output_type": "execute_result"
    }
   ],
   "source": [
    "# Combine the columns female_smokers and male_smokers together in the column smokers.\n",
    "categorized_dataframe[\"smokers\"] = categorized_dataframe[[\"female_smokers\", \"male_smokers\"]].sum(axis=1)\n",
    "\n",
    "# Remove the missing values before we train the model. Because we don't want them in our model.\n",
    "categorized_dataframe.dropna(subset=['diabetes_prevalence', 'total_deaths'], inplace=True)\n",
    "\n",
    "# Showing that all the missing values are removed.\n",
    "categorized_dataframe[['diabetes_prevalence', 'total_deaths']].value_counts(dropna=False)"
   ],
   "metadata": {
    "collapsed": false,
    "pycharm": {
     "name": "#%%\n"
    }
   }
  },
  {
   "cell_type": "code",
   "execution_count": 14,
   "outputs": [
    {
     "data": {
      "text/plain": "0.4954262167149399"
     },
     "execution_count": 14,
     "metadata": {},
     "output_type": "execute_result"
    }
   ],
   "source": [
    "# Get the independent data to predict with.\n",
    "X = categorized_dataframe[['diabetes_prevalence', 'smokers']]\n",
    "\n",
    "# Get the dependent data to predict with.\n",
    "Y = categorized_dataframe[['total_deaths']]\n",
    "\n",
    "# Split the data into test and training data.\n",
    "x_train, x_test, y_train, y_test = train_test_split(X, Y, test_size = 0.25, random_state = 0)\n",
    "\n",
    "# Set the forest regressor object.\n",
    "reg = RandomForestRegressor(random_state=0)\n",
    "\n",
    "# Build the tree from the training set.\n",
    "reg.fit(x_train, y_train.values.ravel())\n",
    "\n",
    "# Get the predictions based on the test data.\n",
    "prediction = reg.predict(x_test)\n",
    "\n",
    "# Get the accuracy of the model.\n",
    "r2_score(y_test, prediction)"
   ],
   "metadata": {
    "collapsed": false,
    "pycharm": {
     "name": "#%%\n"
    }
   }
  }
 ],
 "metadata": {
  "kernelspec": {
   "display_name": "Python 3",
   "language": "python",
   "name": "python3"
  },
  "language_info": {
   "codemirror_mode": {
    "name": "ipython",
    "version": 2
   },
   "file_extension": ".py",
   "mimetype": "text/x-python",
   "name": "python",
   "nbconvert_exporter": "python",
   "pygments_lexer": "ipython2",
   "version": "2.7.6"
  }
 },
 "nbformat": 4,
 "nbformat_minor": 0
}