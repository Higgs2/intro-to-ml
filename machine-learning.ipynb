{
 "cells": [
  {
   "cell_type": "code",
   "execution_count": 58,
   "metadata": {
    "collapsed": true
   },
   "outputs": [],
   "source": [
    "import numpy as np\n",
    "import pandas as pd\n",
    "import matplotlib.pyplot as plt"
   ]
  },
  {
   "cell_type": "code",
   "execution_count": 59,
   "outputs": [
    {
     "name": "stderr",
     "output_type": "stream",
     "text": [
      "C:\\Users\\desle\\AppData\\Local\\Temp\\ipykernel_5164\\3488251565.py:1: DtypeWarning: Columns (1,24) have mixed types. Specify dtype option on import or set low_memory=False.\n",
      "  df = pd.read_csv(\"Case_PRB.csv\")\n"
     ]
    },
    {
     "data": {
      "text/plain": "  iso_code      continent location        date  total_cases  new_cases  \\\n0      ABW  North America    Aruba  2020-03-13          2.0        2.0   \n1      ABW  North America    Aruba  2020-03-19          NaN        NaN   \n2      ABW  North America    Aruba  2020-03-20          4.0        2.0   \n3      ABW  North America    Aruba  2020-03-21          NaN        NaN   \n4      ABW  North America    Aruba  2020-03-22          NaN        NaN   \n5      ABW  North America    Aruba  2020-03-23          NaN        NaN   \n6      ABW  North America    Aruba  2020-03-24         12.0        8.0   \n7      ABW  North America    Aruba  2020-03-25         17.0        5.0   \n8      ABW  North America    Aruba  2020-03-26         19.0        2.0   \n9      ABW  North America    Aruba  2020-03-27         28.0        9.0   \n\n   new_cases_smoothed  total_deaths  new_deaths  new_deaths_smoothed  ...  \\\n0                 NaN           0.0         0.0                  NaN  ...   \n1               0.286           NaN         NaN                  0.0  ...   \n2               0.286           0.0         0.0                  0.0  ...   \n3               0.286           NaN         NaN                  0.0  ...   \n4               0.286           NaN         NaN                  0.0  ...   \n5               0.286           NaN         NaN                  0.0  ...   \n6               1.429           0.0         0.0                  0.0  ...   \n7               2.143           0.0         0.0                  0.0  ...   \n8               2.429           0.0         0.0                  0.0  ...   \n9               3.429           0.0         0.0                  0.0  ...   \n\n   gdp_per_capita  extreme_poverty  cardiovasc_death_rate  \\\n0       35973.781              NaN                    NaN   \n1       35973.781              NaN                    NaN   \n2       35973.781              NaN                    NaN   \n3       35973.781              NaN                    NaN   \n4       35973.781              NaN                    NaN   \n5       35973.781              NaN                    NaN   \n6       35973.781              NaN                    NaN   \n7       35973.781              NaN                    NaN   \n8       35973.781              NaN                    NaN   \n9       35973.781              NaN                    NaN   \n\n   diabetes_prevalence  female_smokers  male_smokers  handwashing_facilities  \\\n0                11.62             NaN           NaN                     NaN   \n1                11.62             NaN           NaN                     NaN   \n2                11.62             NaN           NaN                     NaN   \n3                11.62             NaN           NaN                     NaN   \n4                11.62             NaN           NaN                     NaN   \n5                11.62             NaN           NaN                     NaN   \n6                11.62             NaN           NaN                     NaN   \n7                11.62             NaN           NaN                     NaN   \n8                11.62             NaN           NaN                     NaN   \n9                11.62             NaN           NaN                     NaN   \n\n   hospital_beds_per_thousand  life_expectancy  human_development_index  \n0                         NaN            76.29                      NaN  \n1                         NaN            76.29                      NaN  \n2                         NaN            76.29                      NaN  \n3                         NaN            76.29                      NaN  \n4                         NaN            76.29                      NaN  \n5                         NaN            76.29                      NaN  \n6                         NaN            76.29                      NaN  \n7                         NaN            76.29                      NaN  \n8                         NaN            76.29                      NaN  \n9                         NaN            76.29                      NaN  \n\n[10 rows x 41 columns]",
      "text/html": "<div>\n<style scoped>\n    .dataframe tbody tr th:only-of-type {\n        vertical-align: middle;\n    }\n\n    .dataframe tbody tr th {\n        vertical-align: top;\n    }\n\n    .dataframe thead th {\n        text-align: right;\n    }\n</style>\n<table border=\"1\" class=\"dataframe\">\n  <thead>\n    <tr style=\"text-align: right;\">\n      <th></th>\n      <th>iso_code</th>\n      <th>continent</th>\n      <th>location</th>\n      <th>date</th>\n      <th>total_cases</th>\n      <th>new_cases</th>\n      <th>new_cases_smoothed</th>\n      <th>total_deaths</th>\n      <th>new_deaths</th>\n      <th>new_deaths_smoothed</th>\n      <th>...</th>\n      <th>gdp_per_capita</th>\n      <th>extreme_poverty</th>\n      <th>cardiovasc_death_rate</th>\n      <th>diabetes_prevalence</th>\n      <th>female_smokers</th>\n      <th>male_smokers</th>\n      <th>handwashing_facilities</th>\n      <th>hospital_beds_per_thousand</th>\n      <th>life_expectancy</th>\n      <th>human_development_index</th>\n    </tr>\n  </thead>\n  <tbody>\n    <tr>\n      <th>0</th>\n      <td>ABW</td>\n      <td>North America</td>\n      <td>Aruba</td>\n      <td>2020-03-13</td>\n      <td>2.0</td>\n      <td>2.0</td>\n      <td>NaN</td>\n      <td>0.0</td>\n      <td>0.0</td>\n      <td>NaN</td>\n      <td>...</td>\n      <td>35973.781</td>\n      <td>NaN</td>\n      <td>NaN</td>\n      <td>11.62</td>\n      <td>NaN</td>\n      <td>NaN</td>\n      <td>NaN</td>\n      <td>NaN</td>\n      <td>76.29</td>\n      <td>NaN</td>\n    </tr>\n    <tr>\n      <th>1</th>\n      <td>ABW</td>\n      <td>North America</td>\n      <td>Aruba</td>\n      <td>2020-03-19</td>\n      <td>NaN</td>\n      <td>NaN</td>\n      <td>0.286</td>\n      <td>NaN</td>\n      <td>NaN</td>\n      <td>0.0</td>\n      <td>...</td>\n      <td>35973.781</td>\n      <td>NaN</td>\n      <td>NaN</td>\n      <td>11.62</td>\n      <td>NaN</td>\n      <td>NaN</td>\n      <td>NaN</td>\n      <td>NaN</td>\n      <td>76.29</td>\n      <td>NaN</td>\n    </tr>\n    <tr>\n      <th>2</th>\n      <td>ABW</td>\n      <td>North America</td>\n      <td>Aruba</td>\n      <td>2020-03-20</td>\n      <td>4.0</td>\n      <td>2.0</td>\n      <td>0.286</td>\n      <td>0.0</td>\n      <td>0.0</td>\n      <td>0.0</td>\n      <td>...</td>\n      <td>35973.781</td>\n      <td>NaN</td>\n      <td>NaN</td>\n      <td>11.62</td>\n      <td>NaN</td>\n      <td>NaN</td>\n      <td>NaN</td>\n      <td>NaN</td>\n      <td>76.29</td>\n      <td>NaN</td>\n    </tr>\n    <tr>\n      <th>3</th>\n      <td>ABW</td>\n      <td>North America</td>\n      <td>Aruba</td>\n      <td>2020-03-21</td>\n      <td>NaN</td>\n      <td>NaN</td>\n      <td>0.286</td>\n      <td>NaN</td>\n      <td>NaN</td>\n      <td>0.0</td>\n      <td>...</td>\n      <td>35973.781</td>\n      <td>NaN</td>\n      <td>NaN</td>\n      <td>11.62</td>\n      <td>NaN</td>\n      <td>NaN</td>\n      <td>NaN</td>\n      <td>NaN</td>\n      <td>76.29</td>\n      <td>NaN</td>\n    </tr>\n    <tr>\n      <th>4</th>\n      <td>ABW</td>\n      <td>North America</td>\n      <td>Aruba</td>\n      <td>2020-03-22</td>\n      <td>NaN</td>\n      <td>NaN</td>\n      <td>0.286</td>\n      <td>NaN</td>\n      <td>NaN</td>\n      <td>0.0</td>\n      <td>...</td>\n      <td>35973.781</td>\n      <td>NaN</td>\n      <td>NaN</td>\n      <td>11.62</td>\n      <td>NaN</td>\n      <td>NaN</td>\n      <td>NaN</td>\n      <td>NaN</td>\n      <td>76.29</td>\n      <td>NaN</td>\n    </tr>\n    <tr>\n      <th>5</th>\n      <td>ABW</td>\n      <td>North America</td>\n      <td>Aruba</td>\n      <td>2020-03-23</td>\n      <td>NaN</td>\n      <td>NaN</td>\n      <td>0.286</td>\n      <td>NaN</td>\n      <td>NaN</td>\n      <td>0.0</td>\n      <td>...</td>\n      <td>35973.781</td>\n      <td>NaN</td>\n      <td>NaN</td>\n      <td>11.62</td>\n      <td>NaN</td>\n      <td>NaN</td>\n      <td>NaN</td>\n      <td>NaN</td>\n      <td>76.29</td>\n      <td>NaN</td>\n    </tr>\n    <tr>\n      <th>6</th>\n      <td>ABW</td>\n      <td>North America</td>\n      <td>Aruba</td>\n      <td>2020-03-24</td>\n      <td>12.0</td>\n      <td>8.0</td>\n      <td>1.429</td>\n      <td>0.0</td>\n      <td>0.0</td>\n      <td>0.0</td>\n      <td>...</td>\n      <td>35973.781</td>\n      <td>NaN</td>\n      <td>NaN</td>\n      <td>11.62</td>\n      <td>NaN</td>\n      <td>NaN</td>\n      <td>NaN</td>\n      <td>NaN</td>\n      <td>76.29</td>\n      <td>NaN</td>\n    </tr>\n    <tr>\n      <th>7</th>\n      <td>ABW</td>\n      <td>North America</td>\n      <td>Aruba</td>\n      <td>2020-03-25</td>\n      <td>17.0</td>\n      <td>5.0</td>\n      <td>2.143</td>\n      <td>0.0</td>\n      <td>0.0</td>\n      <td>0.0</td>\n      <td>...</td>\n      <td>35973.781</td>\n      <td>NaN</td>\n      <td>NaN</td>\n      <td>11.62</td>\n      <td>NaN</td>\n      <td>NaN</td>\n      <td>NaN</td>\n      <td>NaN</td>\n      <td>76.29</td>\n      <td>NaN</td>\n    </tr>\n    <tr>\n      <th>8</th>\n      <td>ABW</td>\n      <td>North America</td>\n      <td>Aruba</td>\n      <td>2020-03-26</td>\n      <td>19.0</td>\n      <td>2.0</td>\n      <td>2.429</td>\n      <td>0.0</td>\n      <td>0.0</td>\n      <td>0.0</td>\n      <td>...</td>\n      <td>35973.781</td>\n      <td>NaN</td>\n      <td>NaN</td>\n      <td>11.62</td>\n      <td>NaN</td>\n      <td>NaN</td>\n      <td>NaN</td>\n      <td>NaN</td>\n      <td>76.29</td>\n      <td>NaN</td>\n    </tr>\n    <tr>\n      <th>9</th>\n      <td>ABW</td>\n      <td>North America</td>\n      <td>Aruba</td>\n      <td>2020-03-27</td>\n      <td>28.0</td>\n      <td>9.0</td>\n      <td>3.429</td>\n      <td>0.0</td>\n      <td>0.0</td>\n      <td>0.0</td>\n      <td>...</td>\n      <td>35973.781</td>\n      <td>NaN</td>\n      <td>NaN</td>\n      <td>11.62</td>\n      <td>NaN</td>\n      <td>NaN</td>\n      <td>NaN</td>\n      <td>NaN</td>\n      <td>76.29</td>\n      <td>NaN</td>\n    </tr>\n  </tbody>\n</table>\n<p>10 rows × 41 columns</p>\n</div>"
     },
     "execution_count": 59,
     "metadata": {},
     "output_type": "execute_result"
    }
   ],
   "source": [
    "df = pd.read_csv(\"Case_PRB.csv\")\n",
    "\n",
    "df.head(10)"
   ],
   "metadata": {
    "collapsed": false,
    "pycharm": {
     "name": "#%%\n"
    }
   }
  },
  {
   "cell_type": "code",
   "execution_count": 60,
   "outputs": [
    {
     "data": {
      "text/plain": "iso_code                             287\ncontinent                            574\nlocation                               0\ndate                                   0\ntotal_cases                          636\nnew_cases                            859\nnew_cases_smoothed                  1641\ntotal_deaths                         636\nnew_deaths                           859\nnew_deaths_smoothed                 1641\ntotal_cases_per_million              923\nnew_cases_per_million                923\nnew_cases_smoothed_per_million      1706\ntotal_deaths_per_million             923\nnew_deaths_per_million               923\nnew_deaths_smoothed_per_million     1706\nnew_tests                          31622\ntotal_tests                        31203\ntotal_tests_per_thousand           31203\nnew_tests_per_thousand             31622\nnew_tests_smoothed                 29251\nnew_tests_smoothed_per_thousand    29251\ntests_per_case                     30858\npositive_rate                      30398\ntests_units                        28396\nstringency_index                    8598\npopulation                           287\npopulation_density                  2559\nmedian_age                          5408\naged_65_older                       6069\naged_70_older                       5638\ngdp_per_capita                      5987\nextreme_poverty                    20538\ncardiovasc_death_rate               5421\ndiabetes_prevalence                 3833\nfemale_smokers                     15065\nmale_smokers                       15506\nhandwashing_facilities             28889\nhospital_beds_per_thousand          9735\nlife_expectancy                      914\nhuman_development_index             6963\ndtype: int64"
     },
     "execution_count": 60,
     "metadata": {},
     "output_type": "execute_result"
    }
   ],
   "source": [
    "df.isna().sum()"
   ],
   "metadata": {
    "collapsed": false,
    "pycharm": {
     "name": "#%%\n"
    }
   }
  }
 ],
 "metadata": {
  "kernelspec": {
   "display_name": "Python 3",
   "language": "python",
   "name": "python3"
  },
  "language_info": {
   "codemirror_mode": {
    "name": "ipython",
    "version": 2
   },
   "file_extension": ".py",
   "mimetype": "text/x-python",
   "name": "python",
   "nbconvert_exporter": "python",
   "pygments_lexer": "ipython2",
   "version": "2.7.6"
  }
 },
 "nbformat": 4,
 "nbformat_minor": 0
}